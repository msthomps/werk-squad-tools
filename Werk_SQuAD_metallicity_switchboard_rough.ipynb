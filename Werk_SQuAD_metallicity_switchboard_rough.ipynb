{
 "cells": [
  {
   "cell_type": "markdown",
   "metadata": {},
   "source": [
    "# Metallicity Switchboard"
   ]
  },
  {
   "cell_type": "code",
   "execution_count": 1,
   "metadata": {},
   "outputs": [],
   "source": [
    "import astropy.units as u\n",
    "import astropy.constants as ac\n",
    "from astropy.cosmology import FlatLambdaCDM\n",
    "import numpy as np\n",
    "import pandas as pd\n",
    "import os\n",
    "from os.path import expanduser\n",
    "from astropy.table import Table\n",
    "from glob import glob\n",
    "from O3N2 import*"
   ]
  },
  {
   "cell_type": "code",
   "execution_count": 2,
   "metadata": {},
   "outputs": [
    {
     "data": {
      "text/html": [
       "<div>\n",
       "<style scoped>\n",
       "    .dataframe tbody tr th:only-of-type {\n",
       "        vertical-align: middle;\n",
       "    }\n",
       "\n",
       "    .dataframe tbody tr th {\n",
       "        vertical-align: top;\n",
       "    }\n",
       "\n",
       "    .dataframe thead th {\n",
       "        text-align: right;\n",
       "    }\n",
       "</style>\n",
       "<table border=\"1\" class=\"dataframe\">\n",
       "  <thead>\n",
       "    <tr style=\"text-align: right;\">\n",
       "      <th></th>\n",
       "      <th>specfile</th>\n",
       "      <th>id</th>\n",
       "      <th>OBJECT</th>\n",
       "      <th>cgm_name</th>\n",
       "      <th>gal_ra</th>\n",
       "      <th>gal_dec</th>\n",
       "      <th>z</th>\n",
       "      <th>OII_flux</th>\n",
       "      <th>OII_flux_sig</th>\n",
       "      <th>OII_LQ</th>\n",
       "      <th>...</th>\n",
       "      <th>NII_flux</th>\n",
       "      <th>NII_flux_sig</th>\n",
       "      <th>NII_LQ</th>\n",
       "      <th>SIIa_flux</th>\n",
       "      <th>SIIa_flux_sig</th>\n",
       "      <th>SIIa_LQ</th>\n",
       "      <th>SIIb_flux</th>\n",
       "      <th>SIIb_flux_sig</th>\n",
       "      <th>SIIb_LQ</th>\n",
       "      <th>Comment</th>\n",
       "    </tr>\n",
       "  </thead>\n",
       "  <tbody>\n",
       "    <tr>\n",
       "      <th>2</th>\n",
       "      <td>J022601.51+001532.5.fits</td>\n",
       "      <td>J022601.51+001532.5._03</td>\n",
       "      <td>J0226+0015</td>\n",
       "      <td>J0226+0015_271_194</td>\n",
       "      <td>36.506302</td>\n",
       "      <td>0.25904</td>\n",
       "      <td>0.352715</td>\n",
       "      <td>-99.0</td>\n",
       "      <td>-99.0</td>\n",
       "      <td>-99.0</td>\n",
       "      <td>...</td>\n",
       "      <td>1.120000e-17</td>\n",
       "      <td>2.570000e-18</td>\n",
       "      <td>1.0</td>\n",
       "      <td>1.290000e-17</td>\n",
       "      <td>7.990000e-19</td>\n",
       "      <td>1.0</td>\n",
       "      <td>1.760000e-18</td>\n",
       "      <td>1.140000e-18</td>\n",
       "      <td>1.0</td>\n",
       "      <td>NaN</td>\n",
       "    </tr>\n",
       "    <tr>\n",
       "      <th>3</th>\n",
       "      <td>J022602.41+001536.6.fits</td>\n",
       "      <td>J022602.41+001536.6._01</td>\n",
       "      <td>J0226+0015</td>\n",
       "      <td>J0226+0015_272_181</td>\n",
       "      <td>36.510059</td>\n",
       "      <td>0.26017</td>\n",
       "      <td>0.297832</td>\n",
       "      <td>-99.0</td>\n",
       "      <td>-99.0</td>\n",
       "      <td>-99.0</td>\n",
       "      <td>...</td>\n",
       "      <td>-9.900000e+01</td>\n",
       "      <td>-9.900000e+01</td>\n",
       "      <td>-99.0</td>\n",
       "      <td>-9.900000e+01</td>\n",
       "      <td>-9.900000e+01</td>\n",
       "      <td>2.0</td>\n",
       "      <td>-9.900000e+01</td>\n",
       "      <td>-9.900000e+01</td>\n",
       "      <td>2.0</td>\n",
       "      <td>NaN</td>\n",
       "    </tr>\n",
       "  </tbody>\n",
       "</table>\n",
       "<p>2 rows × 29 columns</p>\n",
       "</div>"
      ],
      "text/plain": [
       "                   specfile                       id      OBJECT  \\\n",
       "2  J022601.51+001532.5.fits  J022601.51+001532.5._03  J0226+0015   \n",
       "3  J022602.41+001536.6.fits  J022602.41+001536.6._01  J0226+0015   \n",
       "\n",
       "             cgm_name     gal_ra  gal_dec         z  OII_flux  OII_flux_sig  \\\n",
       "2  J0226+0015_271_194  36.506302  0.25904  0.352715     -99.0         -99.0   \n",
       "3  J0226+0015_272_181  36.510059  0.26017  0.297832     -99.0         -99.0   \n",
       "\n",
       "   OII_LQ  ...      NII_flux  NII_flux_sig  NII_LQ     SIIa_flux  \\\n",
       "2   -99.0  ...  1.120000e-17  2.570000e-18     1.0  1.290000e-17   \n",
       "3   -99.0  ... -9.900000e+01 -9.900000e+01   -99.0 -9.900000e+01   \n",
       "\n",
       "   SIIa_flux_sig  SIIa_LQ     SIIb_flux  SIIb_flux_sig  SIIb_LQ  Comment  \n",
       "2   7.990000e-19      1.0  1.760000e-18   1.140000e-18      1.0      NaN  \n",
       "3  -9.900000e+01      2.0 -9.900000e+01  -9.900000e+01      2.0      NaN  \n",
       "\n",
       "[2 rows x 29 columns]"
      ]
     },
     "execution_count": 2,
     "metadata": {},
     "output_type": "execute_result"
    }
   ],
   "source": [
    "# gala is a data table of Final_galinfo.csv file which \n",
    "# is a subset of data from the galaxyinfo.xlsx data from CGM^2\n",
    "\n",
    "galaxy = pd.read_csv('../test/Final_galinfo.csv')\n",
    "\n",
    "galaxy.index += 2   # This is so the subset of data matches the exact \n",
    "                    # index value of the galaxyinfo.xlsx data\n",
    "\n",
    "galaxy.to_numpy()   # This turns the DataFrame into a NumPy array.\n",
    "\n",
    "galaxy[:2]"
   ]
  },
  {
   "cell_type": "markdown",
   "metadata": {},
   "source": [
    "### This notebook is mainly a framework. It would be ideal if your individual functions returned a NumPy array that is the same length as 'galaxy' (n=782), indexed correctly, values that can be calculated are dtype=float, values that cannot be calculated are (np.nan). The bold print cells below represent functions that need to be written.\n"
   ]
  },
  {
   "cell_type": "markdown",
   "metadata": {},
   "source": [
    "## Calculate 'O3HB'"
   ]
  },
  {
   "cell_type": "markdown",
   "metadata": {},
   "source": [
    "-Add column 'O3HB' to 'galaxy'"
   ]
  },
  {
   "cell_type": "markdown",
   "metadata": {},
   "source": [
    "## Calculate 'N2' "
   ]
  },
  {
   "cell_type": "markdown",
   "metadata": {},
   "source": [
    "-Add column 'N2' to 'galaxy'"
   ]
  },
  {
   "cell_type": "markdown",
   "metadata": {},
   "source": [
    "## Calculate 'O3N2'"
   ]
  },
  {
   "cell_type": "code",
   "execution_count": null,
   "metadata": {},
   "outputs": [],
   "source": [
    "O3N2(galaxy)"
   ]
  },
  {
   "cell_type": "markdown",
   "metadata": {},
   "source": [
    "-Add 'O3N2' column to 'galaxy'"
   ]
  },
  {
   "cell_type": "markdown",
   "metadata": {},
   "source": [
    "-Check 'O3N2' values"
   ]
  },
  {
   "cell_type": "markdown",
   "metadata": {},
   "source": [
    "  IF O3N2 < 1.9"
   ]
  },
  {
   "cell_type": "markdown",
   "metadata": {},
   "source": [
    "## Calculate 'Z_O3N2-'"
   ]
  },
  {
   "cell_type": "markdown",
   "metadata": {},
   "source": [
    "ELSEIF O3N2 > 1.9"
   ]
  },
  {
   "cell_type": "markdown",
   "metadata": {},
   "source": [
    "## Calculate 'Z_O3N2+'"
   ]
  },
  {
   "cell_type": "markdown",
   "metadata": {},
   "source": [
    "-If 'O3N2' or 'O3HB' could not be calculated (NaN) and we only have N2 index then the equation for calculating 'Z_O3N2+' (when O3N2 > 1.9) can be used for calculating metallicity."
   ]
  },
  {
   "cell_type": "markdown",
   "metadata": {},
   "source": [
    "-If 'O3N2' or 'N2' could not be calculated (NaN) and we only have O3HB values:"
   ]
  },
  {
   "cell_type": "markdown",
   "metadata": {},
   "source": [
    "*If there is no OII flux, then metallicity cannot be calculated, we're done."
   ]
  },
  {
   "cell_type": "markdown",
   "metadata": {},
   "source": [
    "*If there is OII flux then we need to use the R23 method"
   ]
  },
  {
   "cell_type": "markdown",
   "metadata": {},
   "source": [
    "## Calculate R23"
   ]
  },
  {
   "cell_type": "markdown",
   "metadata": {},
   "source": [
    "-From the conversation in the the last meeting (and please correct me if I'm wrong) I was under the impression that we are only going to use the R23 'Lower Branch' calculations only."
   ]
  },
  {
   "cell_type": "markdown",
   "metadata": {},
   "source": [
    "-Create a final 'Z' column combining all metallicity calculations."
   ]
  },
  {
   "cell_type": "markdown",
   "metadata": {},
   "source": [
    "-Create a 'Flag_Z' column"
   ]
  },
  {
   "cell_type": "markdown",
   "metadata": {},
   "source": [
    "-Save to .csv"
   ]
  },
  {
   "cell_type": "code",
   "execution_count": null,
   "metadata": {},
   "outputs": [],
   "source": []
  }
 ],
 "metadata": {
  "kernelspec": {
   "display_name": "Python 3",
   "language": "python",
   "name": "python3"
  },
  "language_info": {
   "codemirror_mode": {
    "name": "ipython",
    "version": 3
   },
   "file_extension": ".py",
   "mimetype": "text/x-python",
   "name": "python",
   "nbconvert_exporter": "python",
   "pygments_lexer": "ipython3",
   "version": "3.7.3"
  }
 },
 "nbformat": 4,
 "nbformat_minor": 4
}
